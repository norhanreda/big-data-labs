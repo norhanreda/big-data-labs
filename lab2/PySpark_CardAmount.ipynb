{
  "cells": [
    {
      "cell_type": "code",
      "execution_count": 42,
      "metadata": {
        "id": "xkyHMADBB8mz"
      },
      "outputs": [],
      "source": [
        "# !pip install pyspark\n",
        "# !pip install findspark"
      ]
    },
    {
      "cell_type": "code",
      "execution_count": 43,
      "metadata": {
        "id": "hIZK1XpTB6Je"
      },
      "outputs": [],
      "source": [
        "import findspark\n",
        "findspark.init()"
      ]
    },
    {
      "cell_type": "code",
      "execution_count": 44,
      "metadata": {
        "id": "hWC5SM0kB6Jg"
      },
      "outputs": [],
      "source": [
        "from pyspark.sql import SparkSession\n",
        "from pyspark.conf import SparkConf"
      ]
    },
    {
      "cell_type": "code",
      "execution_count": 45,
      "metadata": {
        "id": "oq0mWEiTB6Jh"
      },
      "outputs": [],
      "source": [
        "spark=SparkSession.builder\\\n",
        "    .master(\"local[*]\")\\\n",
        "    .appName(\"CardAmount\")\\\n",
        "    .getOrCreate()"
      ]
    },
    {
      "cell_type": "code",
      "execution_count": 46,
      "metadata": {
        "id": "V-7py0osB6Ji"
      },
      "outputs": [],
      "source": [
        "sc=spark.sparkContext"
      ]
    },
    {
      "cell_type": "markdown",
      "metadata": {
        "id": "ZUTGFgkoB6Ji"
      },
      "source": [
        "## Read Data"
      ]
    },
    {
      "cell_type": "code",
      "source": [
        "from google.colab import drive\n",
        "drive.mount('/content/drive')\n"
      ],
      "metadata": {
        "colab": {
          "base_uri": "https://localhost:8080/"
        },
        "id": "b_Gp5FK0Vw6w",
        "outputId": "e658055f-9ac2-4762-a4f1-5c302fcc3a79"
      },
      "execution_count": 59,
      "outputs": [
        {
          "output_type": "stream",
          "name": "stdout",
          "text": [
            "Drive already mounted at /content/drive; to attempt to forcibly remount, call drive.mount(\"/content/drive\", force_remount=True).\n"
          ]
        }
      ]
    },
    {
      "cell_type": "code",
      "execution_count": 63,
      "metadata": {
        "id": "JsDroEsAB6Jj"
      },
      "outputs": [],
      "source": [
        "# data=\"in.csv\"\n",
        "data = '/content/drive/My Drive/in.csv'\n"
      ]
    },
    {
      "cell_type": "code",
      "execution_count": 64,
      "metadata": {
        "id": "NIt19grYB6Jj"
      },
      "outputs": [],
      "source": [
        "data_rdd=sc.textFile(data)"
      ]
    },
    {
      "cell_type": "code",
      "execution_count": 65,
      "metadata": {
        "colab": {
          "base_uri": "https://localhost:8080/"
        },
        "id": "pfvCZGKrB6Jj",
        "outputId": "f95f07f5-42b9-4011-d92a-35ef66a9085a"
      },
      "outputs": [
        {
          "output_type": "execute_result",
          "data": {
            "text/plain": [
              "['224,10',\n",
              " '836,100',\n",
              " '81,5',\n",
              " '809,50',\n",
              " '786,25',\n",
              " '63,5',\n",
              " '478,25',\n",
              " '330,10',\n",
              " '511,15',\n",
              " '450,25',\n",
              " '521,25',\n",
              " '150,50',\n",
              " '671,5',\n",
              " '971,5',\n",
              " '439,10',\n",
              " '536,50',\n",
              " '253,5',\n",
              " '425,15',\n",
              " '638,50',\n",
              " '841,10',\n",
              " '324,10',\n",
              " '125,50',\n",
              " '937,15',\n",
              " '898,5',\n",
              " '461,50',\n",
              " '295,10',\n",
              " '683,10',\n",
              " '331,25',\n",
              " '187,15',\n",
              " '873,100',\n",
              " '303,50',\n",
              " '119,5',\n",
              " '589,100',\n",
              " '742,15',\n",
              " '81,25',\n",
              " '47,100',\n",
              " '521,50',\n",
              " '617,15',\n",
              " '228,5',\n",
              " '891,15',\n",
              " '107,10',\n",
              " '59,25',\n",
              " '526,100',\n",
              " '461,15',\n",
              " '426,100',\n",
              " '389,25',\n",
              " '114,5',\n",
              " '866,5',\n",
              " '592,50',\n",
              " '452,100',\n",
              " '210,5',\n",
              " '607,15',\n",
              " '628,100',\n",
              " '500,25',\n",
              " '815,25',\n",
              " '358,25',\n",
              " '832,50',\n",
              " '667,5',\n",
              " '708,5',\n",
              " '568,5',\n",
              " '536,15',\n",
              " '775,100',\n",
              " '280,25',\n",
              " '227,5',\n",
              " '461,100',\n",
              " '462,25',\n",
              " '3,100',\n",
              " '410,10',\n",
              " '67,5',\n",
              " '872,5',\n",
              " '589,25',\n",
              " '488,50',\n",
              " '601,50',\n",
              " '393,5',\n",
              " '148,15',\n",
              " '75,50',\n",
              " '742,10',\n",
              " '177,25',\n",
              " '875,15',\n",
              " '121,50',\n",
              " '38,50',\n",
              " '445,100',\n",
              " '87,50',\n",
              " '730,15',\n",
              " '552,10',\n",
              " '790,10',\n",
              " '653,100',\n",
              " '586,15',\n",
              " '400,100',\n",
              " '994,15',\n",
              " '110,100',\n",
              " '84,25',\n",
              " '92,25',\n",
              " '81,5',\n",
              " '35,15',\n",
              " '549,25',\n",
              " '871,15',\n",
              " '595,5',\n",
              " '453,5',\n",
              " '140,25']"
            ]
          },
          "metadata": {},
          "execution_count": 65
        }
      ],
      "source": [
        "data_rdd.take(100)\n",
        "\n"
      ]
    },
    {
      "cell_type": "code",
      "execution_count": 66,
      "metadata": {
        "colab": {
          "base_uri": "https://localhost:8080/"
        },
        "id": "bfixbGDjB6Jk",
        "outputId": "19c62c2f-2551-4e00-d093-88fc945cd0ef"
      },
      "outputs": [
        {
          "output_type": "execute_result",
          "data": {
            "text/plain": [
              "75000000"
            ]
          },
          "metadata": {},
          "execution_count": 66
        }
      ],
      "source": [
        "data_rdd.count()"
      ]
    },
    {
      "cell_type": "code",
      "execution_count": 67,
      "metadata": {
        "id": "rC1J4IDgB6Jk"
      },
      "outputs": [],
      "source": [
        "def splitter(x):\n",
        "  result = x.split(\",\")\n",
        "  return result"
      ]
    },
    {
      "cell_type": "code",
      "execution_count": 68,
      "metadata": {
        "id": "ZTDZWGtJB6Jl"
      },
      "outputs": [],
      "source": [
        "data_rdd = data_rdd.map(splitter)"
      ]
    },
    {
      "cell_type": "code",
      "execution_count": 69,
      "metadata": {
        "colab": {
          "base_uri": "https://localhost:8080/"
        },
        "id": "AGn40f7vB6Jl",
        "outputId": "9b236450-7a36-4454-8094-2a43ef13986e"
      },
      "outputs": [
        {
          "output_type": "execute_result",
          "data": {
            "text/plain": [
              "[['224', '10'],\n",
              " ['836', '100'],\n",
              " ['81', '5'],\n",
              " ['809', '50'],\n",
              " ['786', '25'],\n",
              " ['63', '5'],\n",
              " ['478', '25'],\n",
              " ['330', '10'],\n",
              " ['511', '15'],\n",
              " ['450', '25'],\n",
              " ['521', '25'],\n",
              " ['150', '50'],\n",
              " ['671', '5'],\n",
              " ['971', '5'],\n",
              " ['439', '10'],\n",
              " ['536', '50'],\n",
              " ['253', '5'],\n",
              " ['425', '15'],\n",
              " ['638', '50'],\n",
              " ['841', '10'],\n",
              " ['324', '10'],\n",
              " ['125', '50'],\n",
              " ['937', '15'],\n",
              " ['898', '5'],\n",
              " ['461', '50'],\n",
              " ['295', '10'],\n",
              " ['683', '10'],\n",
              " ['331', '25'],\n",
              " ['187', '15'],\n",
              " ['873', '100'],\n",
              " ['303', '50'],\n",
              " ['119', '5'],\n",
              " ['589', '100'],\n",
              " ['742', '15'],\n",
              " ['81', '25'],\n",
              " ['47', '100'],\n",
              " ['521', '50'],\n",
              " ['617', '15'],\n",
              " ['228', '5'],\n",
              " ['891', '15']]"
            ]
          },
          "metadata": {},
          "execution_count": 69
        }
      ],
      "source": [
        "data_rdd.take(40)"
      ]
    },
    {
      "cell_type": "code",
      "execution_count": 70,
      "metadata": {
        "id": "tffkiAVTB6Jn"
      },
      "outputs": [],
      "source": [
        "data_count=data_rdd.map(lambda  line:(int(line[0]),int(line[1])))"
      ]
    },
    {
      "cell_type": "code",
      "execution_count": 71,
      "metadata": {
        "colab": {
          "base_uri": "https://localhost:8080/"
        },
        "id": "8LIvuHdrB6Jn",
        "outputId": "9cbf661b-17af-49e0-b159-51d1737e1f8b"
      },
      "outputs": [
        {
          "output_type": "execute_result",
          "data": {
            "text/plain": [
              "[('224', 10), ('836', 100), ('81', 5), ('809', 50)]"
            ]
          },
          "metadata": {},
          "execution_count": 71
        }
      ],
      "source": [
        "data_count.take(4)"
      ]
    },
    {
      "cell_type": "code",
      "execution_count": 72,
      "metadata": {
        "id": "YN2cLNExB6Jo"
      },
      "outputs": [],
      "source": [
        "data_count_RBK=data_count.reduceByKey(lambda x,y:(x+y)).sortByKey()"
      ]
    },
    {
      "cell_type": "code",
      "execution_count": 73,
      "metadata": {
        "colab": {
          "base_uri": "https://localhost:8080/"
        },
        "id": "QyxexgJEB6Jo",
        "outputId": "7ace17db-6573-4dd0-ef06-8253174ac2a2"
      },
      "outputs": [
        {
          "output_type": "execute_result",
          "data": {
            "text/plain": [
              "[('0', 2554710),\n",
              " ('1', 2540660),\n",
              " ('10', 2525035),\n",
              " ('100', 2568385),\n",
              " ('101', 2564425),\n",
              " ('102', 2538315),\n",
              " ('103', 2564125),\n",
              " ('104', 2555395),\n",
              " ('105', 2569490),\n",
              " ('106', 2555705),\n",
              " ('107', 2550640),\n",
              " ('108', 2551170),\n",
              " ('109', 2560765),\n",
              " ('11', 2561655),\n",
              " ('110', 2563440),\n",
              " ('111', 2528045),\n",
              " ('112', 2543330),\n",
              " ('113', 2544710),\n",
              " ('114', 2538730),\n",
              " ('115', 2541695),\n",
              " ('116', 2539050),\n",
              " ('117', 2558005),\n",
              " ('118', 2567940),\n",
              " ('119', 2581715),\n",
              " ('12', 2567315),\n",
              " ('120', 2581580),\n",
              " ('121', 2546640),\n",
              " ('122', 2556855),\n",
              " ('123', 2562060),\n",
              " ('124', 2546955),\n",
              " ('125', 2563090),\n",
              " ('126', 2544190),\n",
              " ('127', 2558585),\n",
              " ('128', 2574275),\n",
              " ('129', 2575620),\n",
              " ('13', 2548960),\n",
              " ('130', 2524385),\n",
              " ('131', 2572245),\n",
              " ('132', 2570320),\n",
              " ('133', 2563035)]"
            ]
          },
          "metadata": {},
          "execution_count": 73
        }
      ],
      "source": [
        "data_count_RBK.take(40)"
      ]
    },
    {
      "cell_type": "code",
      "source": [
        "output_data = data_count_RBK.map(lambda x: f\"{x[0]}\\t\\t{x[1]}\")"
      ],
      "metadata": {
        "id": "9LY6iFHfaCXm"
      },
      "execution_count": 81,
      "outputs": []
    },
    {
      "cell_type": "code",
      "source": [
        "output_data.coalesce(1).saveAsTextFile(\"output5.txt\")"
      ],
      "metadata": {
        "id": "9L6c4DtIBvBR"
      },
      "execution_count": 82,
      "outputs": []
    }
  ],
  "metadata": {
    "colab": {
      "provenance": []
    },
    "kernelspec": {
      "display_name": "Python 3 (ipykernel)",
      "language": "python",
      "name": "python3"
    },
    "language_info": {
      "codemirror_mode": {
        "name": "ipython",
        "version": 3
      },
      "file_extension": ".py",
      "mimetype": "text/x-python",
      "name": "python",
      "nbconvert_exporter": "python",
      "pygments_lexer": "ipython3",
      "version": "3.9.12"
    }
  },
  "nbformat": 4,
  "nbformat_minor": 0
}